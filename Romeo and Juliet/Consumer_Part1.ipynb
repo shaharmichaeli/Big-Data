{
 "cells": [
  {
   "cell_type": "code",
   "execution_count": 1,
   "id": "5d766386",
   "metadata": {},
   "outputs": [
    {
     "name": "stdout",
     "output_type": "stream",
     "text": [
      "Requirement already satisfied: confluent-kafka in /home/linuxu/anaconda3/lib/python3.8/site-packages (1.7.0)\n",
      "Requirement already satisfied: pyenchant in /home/linuxu/anaconda3/lib/python3.8/site-packages (3.2.2)\n"
     ]
    }
   ],
   "source": [
    "!pip install confluent-kafka\n",
    "!pip install pyenchant"
   ]
  },
  {
   "cell_type": "code",
   "execution_count": 2,
   "id": "85197385",
   "metadata": {},
   "outputs": [],
   "source": [
    "import pandas as pd\n",
    "from confluent_kafka import Producer\n",
    "from confluent_kafka import Consumer\n",
    "import re\n",
    "import enchant\n",
    "from pyspark import SparkContext\n",
    "from pyspark.streaming import StreamingContext \n",
    "\n",
    "english_dict = enchant.Dict(\"en_US\")\n",
    "\n",
    "ROMEO_AND_JULIET_TOPIC = 'RomeoAndJuliet'"
   ]
  },
  {
   "cell_type": "code",
   "execution_count": 3,
   "id": "2457a32e",
   "metadata": {},
   "outputs": [],
   "source": [
    "words_df = pd.read_csv('AFINN-111.txt', sep=\"\\t\", header=None)\n",
    "words_df.columns = [\"Word\",\"SentValue\"]\n"
   ]
  },
  {
   "cell_type": "code",
   "execution_count": 4,
   "id": "7e287298",
   "metadata": {},
   "outputs": [],
   "source": [
    "def getSentValue(word):\n",
    "    res = words_df[words_df['Word'] == word]\n",
    "    if len(res) == 1:\n",
    "        return float(res['SentValue'])\n",
    "    return 0"
   ]
  },
  {
   "cell_type": "markdown",
   "id": "fff7dc38",
   "metadata": {},
   "source": [
    "# Consumer"
   ]
  },
  {
   "cell_type": "code",
   "execution_count": 5,
   "id": "be4dc58b",
   "metadata": {},
   "outputs": [],
   "source": [
    "conf = {'bootstrap.servers': \"localhost:9092\",\n",
    "        'group.id': \"foo\",\n",
    "        'auto.offset.reset': 'latest'}\n",
    "\n",
    "consumer = Consumer(conf)"
   ]
  },
  {
   "cell_type": "code",
   "execution_count": 6,
   "id": "0be1aafb",
   "metadata": {},
   "outputs": [],
   "source": [
    "running = True\n",
    "history = {}\n",
    "def basic_consume_loop(consumer, topics):\n",
    "    batch_number = 0\n",
    "    try:\n",
    "        consumer.subscribe(topics)\n",
    "\n",
    "        while running:\n",
    "            msg = consumer.poll(timeout=2.0)\n",
    "            if msg is None: continue\n",
    "\n",
    "            if msg.error():\n",
    "                if msg.error().code() == KafkaError._PARTITION_EOF:\n",
    "                    # End of partition event\n",
    "                    sys.stderr.write('%% %s [%d] reached end at offset %d\\n' %\n",
    "                                     (msg.topic(), msg.partition(), msg.offset()))\n",
    "                elif msg.error():\n",
    "                    raise KafkaException(msg.error())\n",
    "            else:\n",
    "                batch_number += 1\n",
    "                words = [x.lower() for x in re.split('\\W',msg.value().decode('utf-8')) if x != '' and english_dict.check(x.lower()) and x.isnumeric() is False]\n",
    "                words = sc.parallelize(words)\n",
    "                word_sent_values = words.map(lambda x:getSentValue(x)).collect()\n",
    "                history[batch_number] = sum(word_sent_values)\n",
    "                lines_range = msg.key().decode('utf-8')\n",
    "                print(f'{batch_number}: Lines {lines_range} arrived successfully.')\n",
    "\n",
    "\n",
    "    finally:\n",
    "        # Close down consumer to commit final offsets.\n",
    "        consumer.close()\n",
    "\n",
    "def shutdown():\n",
    "    running = False"
   ]
  },
  {
   "cell_type": "code",
   "execution_count": 7,
   "id": "58b1e6b8",
   "metadata": {},
   "outputs": [
    {
     "name": "stdout",
     "output_type": "stream",
     "text": [
      "1: Lines 0:100 arrived successfully.\n",
      "2: Lines 0:100 arrived successfully.\n",
      "3: Lines 100:200 arrived successfully.\n",
      "4: Lines 200:300 arrived successfully.\n",
      "5: Lines 300:400 arrived successfully.\n",
      "6: Lines 400:500 arrived successfully.\n",
      "7: Lines 500:600 arrived successfully.\n",
      "8: Lines 600:700 arrived successfully.\n",
      "9: Lines 700:800 arrived successfully.\n",
      "10: Lines 800:900 arrived successfully.\n",
      "11: Lines 900:1000 arrived successfully.\n",
      "12: Lines 1000:1100 arrived successfully.\n",
      "13: Lines 1100:1200 arrived successfully.\n",
      "14: Lines 1200:1300 arrived successfully.\n",
      "15: Lines 1300:1400 arrived successfully.\n",
      "16: Lines 1400:1500 arrived successfully.\n",
      "17: Lines 1500:1600 arrived successfully.\n",
      "18: Lines 1600:1700 arrived successfully.\n",
      "19: Lines 1700:1800 arrived successfully.\n",
      "20: Lines 1800:1900 arrived successfully.\n",
      "21: Lines 1900:2000 arrived successfully.\n",
      "22: Lines 2000:2100 arrived successfully.\n",
      "23: Lines 2100:2200 arrived successfully.\n",
      "24: Lines 2200:2300 arrived successfully.\n",
      "25: Lines 2300:2400 arrived successfully.\n",
      "26: Lines 2400:2500 arrived successfully.\n",
      "27: Lines 2500:2600 arrived successfully.\n",
      "28: Lines 2600:2700 arrived successfully.\n",
      "29: Lines 2700:2800 arrived successfully.\n",
      "30: Lines 2800:2900 arrived successfully.\n",
      "31: Lines 2900:3000 arrived successfully.\n",
      "32: Lines 3000:3100 arrived successfully.\n",
      "33: Lines 3100:3200 arrived successfully.\n",
      "34: Lines 3200:3300 arrived successfully.\n",
      "35: Lines 3300:3400 arrived successfully.\n",
      "36: Lines 3400:3500 arrived successfully.\n",
      "37: Lines 3500:3600 arrived successfully.\n",
      "38: Lines 3600:3700 arrived successfully.\n",
      "39: Lines 3700:3800 arrived successfully.\n",
      "40: Lines 3800:3900 arrived successfully.\n",
      "41: Lines 3900:4000 arrived successfully.\n",
      "42: Lines 4000:4100 arrived successfully.\n",
      "43: Lines 4100:4200 arrived successfully.\n",
      "44: Lines 4200:4300 arrived successfully.\n",
      "45: Lines 4300:4400 arrived successfully.\n",
      "46: Lines 4400:4500 arrived successfully.\n",
      "47: Lines 4500:4600 arrived successfully.\n",
      "48: Lines 4600:4700 arrived successfully.\n",
      "49: Lines 4700:4800 arrived successfully.\n",
      "50: Lines 4800:4900 arrived successfully.\n"
     ]
    },
    {
     "ename": "KeyboardInterrupt",
     "evalue": "",
     "output_type": "error",
     "traceback": [
      "\u001b[0;31m---------------------------------------------------------------------------\u001b[0m",
      "\u001b[0;31mKeyboardInterrupt\u001b[0m                         Traceback (most recent call last)",
      "\u001b[0;32m<ipython-input-7-5860e1397eb0>\u001b[0m in \u001b[0;36m<module>\u001b[0;34m\u001b[0m\n\u001b[0;32m----> 1\u001b[0;31m \u001b[0mbasic_consume_loop\u001b[0m\u001b[0;34m(\u001b[0m\u001b[0mconsumer\u001b[0m\u001b[0;34m,\u001b[0m\u001b[0;34m[\u001b[0m\u001b[0mROMEO_AND_JULIET_TOPIC\u001b[0m\u001b[0;34m]\u001b[0m\u001b[0;34m)\u001b[0m\u001b[0;34m\u001b[0m\u001b[0;34m\u001b[0m\u001b[0m\n\u001b[0m",
      "\u001b[0;32m<ipython-input-6-76e067e08a45>\u001b[0m in \u001b[0;36mbasic_consume_loop\u001b[0;34m(consumer, topics)\u001b[0m\n\u001b[1;32m      7\u001b[0m \u001b[0;34m\u001b[0m\u001b[0m\n\u001b[1;32m      8\u001b[0m         \u001b[0;32mwhile\u001b[0m \u001b[0mrunning\u001b[0m\u001b[0;34m:\u001b[0m\u001b[0;34m\u001b[0m\u001b[0;34m\u001b[0m\u001b[0m\n\u001b[0;32m----> 9\u001b[0;31m             \u001b[0mmsg\u001b[0m \u001b[0;34m=\u001b[0m \u001b[0mconsumer\u001b[0m\u001b[0;34m.\u001b[0m\u001b[0mpoll\u001b[0m\u001b[0;34m(\u001b[0m\u001b[0mtimeout\u001b[0m\u001b[0;34m=\u001b[0m\u001b[0;36m3.0\u001b[0m\u001b[0;34m)\u001b[0m\u001b[0;34m\u001b[0m\u001b[0;34m\u001b[0m\u001b[0m\n\u001b[0m\u001b[1;32m     10\u001b[0m             \u001b[0;32mif\u001b[0m \u001b[0mmsg\u001b[0m \u001b[0;32mis\u001b[0m \u001b[0;32mNone\u001b[0m\u001b[0;34m:\u001b[0m \u001b[0;32mcontinue\u001b[0m\u001b[0;34m\u001b[0m\u001b[0;34m\u001b[0m\u001b[0m\n\u001b[1;32m     11\u001b[0m \u001b[0;34m\u001b[0m\u001b[0m\n",
      "\u001b[0;31mKeyboardInterrupt\u001b[0m: "
     ]
    }
   ],
   "source": [
    "basic_consume_loop(consumer,[ROMEO_AND_JULIET_TOPIC])"
   ]
  },
  {
   "cell_type": "markdown",
   "id": "eeeeddc3",
   "metadata": {},
   "source": [
    "### Display a plot showing a sentiment level at each time interval N"
   ]
  },
  {
   "cell_type": "code",
   "execution_count": 8,
   "id": "17113762",
   "metadata": {
    "scrolled": true
   },
   "outputs": [],
   "source": [
    "df = pd.DataFrame.from_dict(history.items())\n",
    "df.columns = ['Batch Number','Sum']"
   ]
  },
  {
   "cell_type": "code",
   "execution_count": 9,
   "id": "9fc4c818",
   "metadata": {},
   "outputs": [
    {
     "data": {
      "text/plain": [
       "<AxesSubplot:xlabel='Batch Number'>"
      ]
     },
     "execution_count": 9,
     "metadata": {},
     "output_type": "execute_result"
    },
    {
     "data": {
      "image/png": "[encoded data removed]",
      "text/plain": [
       "<Figure size 432x288 with 1 Axes>"
      ]
     },
     "metadata": {
      "needs_background": "light"
     },
     "output_type": "display_data"
    }
   ],
   "source": [
    "df.plot('Batch Number','Sum')"
   ]
  },
  {
   "cell_type": "code",
   "execution_count": null,
   "id": "4979edef",
   "metadata": {},
   "outputs": [],
   "source": []
  }
 ],
 "metadata": {
  "kernelspec": {
   "display_name": "Python 3",
   "language": "python",
   "name": "python3"
  },
  "language_info": {
   "codemirror_mode": {
    "name": "ipython",
    "version": 3
   },
   "file_extension": ".py",
   "mimetype": "text/x-python",
   "name": "python",
   "nbconvert_exporter": "python",
   "pygments_lexer": "ipython3",
   "version": "3.8.8"
  }
 },
 "nbformat": 4,
 "nbformat_minor": 5
}
