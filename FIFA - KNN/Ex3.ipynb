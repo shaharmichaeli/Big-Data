{
 "cells": [
  {
   "cell_type": "markdown",
   "id": "b7389ef3",
   "metadata": {},
   "source": [
    "# Shahar Michaeli \n",
    "### Imports"
   ]
  },
  {
   "cell_type": "code",
   "execution_count": 1,
   "id": "1b76d54d",
   "metadata": {},
   "outputs": [],
   "source": [
    "import pandas as pd\n",
    "from pyspark.ml.feature import OneHotEncoder\n",
    "from pyspark.sql.types import *\n",
    "from pyspark.ml.feature import StringIndexer\n",
    "from pyspark.ml.feature import Imputer\n",
    "from pyspark.ml.clustering import KMeans\n",
    "from pyspark.ml.evaluation import ClusteringEvaluator\n",
    "from pyspark.ml.feature import VectorAssembler\n",
    "from pyspark.ml.feature import StandardScaler\n",
    "from pyspark.ml.feature import PCA \n",
    "import matplotlib.pyplot as plt\n",
    "from pyspark.ml.functions import vector_to_array"
   ]
  },
  {
   "cell_type": "code",
   "execution_count": 2,
   "id": "d212e518",
   "metadata": {},
   "outputs": [],
   "source": [
    "df = pd.read_csv('dataFIFA.csv').drop(columns = ['ID','Photo','Unnamed: 0','Club Logo','Flag','Loaned From','Joined','Club'])"
   ]
  },
  {
   "cell_type": "code",
   "execution_count": 3,
   "id": "9caf4104",
   "metadata": {
    "scrolled": true
   },
   "outputs": [],
   "source": [
    "# df.info()"
   ]
  },
  {
   "cell_type": "markdown",
   "id": "f998b09b",
   "metadata": {},
   "source": [
    "# Pandas DataFrame to PySpark DataFrame"
   ]
  },
  {
   "cell_type": "code",
   "execution_count": 4,
   "id": "1600204b",
   "metadata": {},
   "outputs": [],
   "source": [
    "# Auxiliar functions\n",
    "def equivalent_type(f):\n",
    "    if f == 'datetime64[ns]': return TimestampType()\n",
    "    elif f == 'int64': return LongType()\n",
    "    elif f == 'int32': return IntegerType()\n",
    "    elif f == 'float64': return FloatType()\n",
    "    else: return StringType()\n",
    "\n",
    "def define_structure(string, format_type):\n",
    "    try: typo = equivalent_type(format_type)\n",
    "    except: typo = StringType()\n",
    "    return StructField(string, typo)\n",
    "\n",
    "# Given pandas dataframe, it will return a spark's dataframe.\n",
    "def pandas_to_spark(pandas_df):\n",
    "    columns = list(pandas_df.columns)\n",
    "    types = list(pandas_df.dtypes)\n",
    "    struct_list = []\n",
    "    for column, typo in zip(columns, types): \n",
    "      struct_list.append(define_structure(column, typo))\n",
    "    p_schema = StructType(struct_list)\n",
    "    return sqlContext.createDataFrame(pandas_df, p_schema)\n",
    "\n",
    "def money_string_replace(variable_name):\n",
    "    df[variable_name] = (df[variable_name].str[1:].replace(r'[KM]+$', '', regex=True).astype(float) *\n",
    "                 df[variable_name].str.extract(r'[\\d\\.]+([KM]+)', expand=False)\n",
    "                 .fillna(1)\n",
    "                 .replace(['K','M'], [10**3, 10**6]).astype(int))"
   ]
  },
  {
   "cell_type": "code",
   "execution_count": 5,
   "id": "533df133",
   "metadata": {},
   "outputs": [],
   "source": [
    "# Replace Money Strings to Money Value..\n",
    "money_string_replace('Value')\n",
    "money_string_replace('Wage')\n",
    "money_string_replace('Release Clause')"
   ]
  },
  {
   "cell_type": "code",
   "execution_count": 6,
   "id": "d1692699",
   "metadata": {},
   "outputs": [],
   "source": [
    "# Sort the dataframe by Wage column, the top players with the highest wages will be on the top.\n",
    "df = df.sort_values(by=['Wage'],ascending=False) "
   ]
  },
  {
   "cell_type": "code",
   "execution_count": 7,
   "id": "c874660a",
   "metadata": {},
   "outputs": [],
   "source": [
    "subdf = df[[\"Overall\",\"Potential\",\"Skill Moves\",\"Position\",\"BallControl\",\"Body Type\"]]"
   ]
  },
  {
   "cell_type": "code",
   "execution_count": 8,
   "id": "e91ff71d",
   "metadata": {},
   "outputs": [
    {
     "data": {
      "text/plain": [
       "DataFrame[Overall: bigint, Potential: bigint, Skill Moves: float, Position: string, BallControl: float, Body Type: string]"
      ]
     },
     "execution_count": 8,
     "metadata": {},
     "output_type": "execute_result"
    }
   ],
   "source": [
    "spark_df = pandas_to_spark(subdf)\n",
    "spark_df"
   ]
  },
  {
   "cell_type": "code",
   "execution_count": 9,
   "id": "cfbfc30b",
   "metadata": {},
   "outputs": [
    {
     "name": "stdout",
     "output_type": "stream",
     "text": [
      "+-------+---------+-----------+--------+-----------+----------+\n",
      "|Overall|Potential|Skill Moves|Position|BallControl| Body Type|\n",
      "+-------+---------+-----------+--------+-----------+----------+\n",
      "|     94|       94|        4.0|      RF|       96.0|     Messi|\n",
      "|     91|       91|        3.0|      RS|       90.0|    Normal|\n",
      "|     91|       91|        4.0|     RCM|       93.0|      Lean|\n",
      "|     94|       94|        5.0|      ST|       94.0|C. Ronaldo|\n",
      "|     91|       91|        3.0|     RCB|       84.0|    Normal|\n",
      "|     90|       90|        3.0|     LCM|       90.0|    Normal|\n",
      "|     88|       88|        4.0|      ST|       85.0|      Lean|\n",
      "|     91|       92|        4.0|     RCM|       91.0|    Normal|\n",
      "|     91|       91|        4.0|      LF|       94.0|    Normal|\n",
      "|     88|       89|        5.0|      LW|       92.0|    Normal|\n",
      "|     88|       91|        4.0|      LW|       95.0|    Normal|\n",
      "|     88|       89|        4.0|     LAM|       90.0|    Normal|\n",
      "|     89|       89|        3.0|     CDM|       88.0|      Lean|\n",
      "|     89|       89|        4.0|      ST|       89.0|    Stocky|\n",
      "|     92|       93|        5.0|      LW|       95.0|    Neymar|\n",
      "|     90|       90|        4.0|     LCM|       94.0|    Normal|\n",
      "|     88|       90|        2.0|     CDM|       78.0|    Normal|\n",
      "|     88|       88|        5.0|      LB|       92.0|    Normal|\n",
      "|     88|       88|        4.0|      LM|       82.0|      Lean|\n",
      "|     87|       87|        3.0|     RCM|       87.0|    Normal|\n",
      "+-------+---------+-----------+--------+-----------+----------+\n",
      "only showing top 20 rows\n",
      "\n"
     ]
    }
   ],
   "source": [
    "spark_df.show()"
   ]
  },
  {
   "cell_type": "markdown",
   "id": "87b248e2",
   "metadata": {},
   "source": [
    "# StringIndexer for Position, Body Type"
   ]
  },
  {
   "cell_type": "code",
   "execution_count": 10,
   "id": "b25ceefa",
   "metadata": {
    "scrolled": true
   },
   "outputs": [
    {
     "name": "stdout",
     "output_type": "stream",
     "text": [
      "+-------+---------+-----------+--------+-----------+----------+---------+----------+\n",
      "|Overall|Potential|Skill Moves|Position|BallControl| Body Type|Position1|Body Type1|\n",
      "+-------+---------+-----------+--------+-----------+----------+---------+----------+\n",
      "|     94|       94|        4.0|      RF|       96.0|     Messi|     26.0|       7.0|\n",
      "|     91|       91|        3.0|      RS|       90.0|    Normal|     19.0|       0.0|\n",
      "|     91|       91|        4.0|     RCM|       93.0|      Lean|     13.0|       1.0|\n",
      "|     94|       94|        5.0|      ST|       94.0|C. Ronaldo|      0.0|       5.0|\n",
      "|     91|       91|        3.0|     RCB|       84.0|    Normal|     10.0|       0.0|\n",
      "|     90|       90|        3.0|     LCM|       90.0|    Normal|     12.0|       0.0|\n",
      "|     88|       88|        4.0|      ST|       85.0|      Lean|      0.0|       1.0|\n",
      "|     91|       92|        4.0|     RCM|       91.0|    Normal|     13.0|       0.0|\n",
      "|     91|       91|        4.0|      LF|       94.0|    Normal|     27.0|       0.0|\n",
      "|     88|       89|        5.0|      LW|       92.0|    Normal|     14.0|       0.0|\n",
      "|     88|       91|        4.0|      LW|       95.0|    Normal|     14.0|       0.0|\n",
      "|     88|       89|        4.0|     LAM|       90.0|    Normal|     24.0|       0.0|\n",
      "|     89|       89|        3.0|     CDM|       88.0|      Lean|      9.0|       1.0|\n",
      "|     89|       89|        4.0|      ST|       89.0|    Stocky|      0.0|       2.0|\n",
      "|     92|       93|        5.0|      LW|       95.0|    Neymar|     14.0|       8.0|\n",
      "|     90|       90|        4.0|     LCM|       94.0|    Normal|     12.0|       0.0|\n",
      "|     88|       90|        2.0|     CDM|       78.0|    Normal|      9.0|       0.0|\n",
      "|     88|       88|        5.0|      LB|       92.0|    Normal|      4.0|       0.0|\n",
      "|     88|       88|        4.0|      LM|       82.0|      Lean|      7.0|       1.0|\n",
      "|     87|       87|        3.0|     RCM|       87.0|    Normal|     13.0|       0.0|\n",
      "+-------+---------+-----------+--------+-----------+----------+---------+----------+\n",
      "only showing top 20 rows\n",
      "\n"
     ]
    }
   ],
   "source": [
    "encoder = StringIndexer(inputCols=[\"Position\",\"Body Type\"],outputCols=[\"Position1\",\"Body Type1\"])\n",
    "model = encoder.fit(spark_df)\n",
    "spark_df = model.transform(spark_df)\n",
    "spark_df.show()"
   ]
  },
  {
   "cell_type": "code",
   "execution_count": 11,
   "id": "47ff1727",
   "metadata": {},
   "outputs": [
    {
     "name": "stdout",
     "output_type": "stream",
     "text": [
      "+-------+---------+-----------+-----------+---------+----------+\n",
      "|Overall|Potential|Skill Moves|BallControl|Position1|Body Type1|\n",
      "+-------+---------+-----------+-----------+---------+----------+\n",
      "|     94|       94|        4.0|       96.0|     26.0|       7.0|\n",
      "|     91|       91|        3.0|       90.0|     19.0|       0.0|\n",
      "|     91|       91|        4.0|       93.0|     13.0|       1.0|\n",
      "|     94|       94|        5.0|       94.0|      0.0|       5.0|\n",
      "|     91|       91|        3.0|       84.0|     10.0|       0.0|\n",
      "|     90|       90|        3.0|       90.0|     12.0|       0.0|\n",
      "|     88|       88|        4.0|       85.0|      0.0|       1.0|\n",
      "|     91|       92|        4.0|       91.0|     13.0|       0.0|\n",
      "|     91|       91|        4.0|       94.0|     27.0|       0.0|\n",
      "|     88|       89|        5.0|       92.0|     14.0|       0.0|\n",
      "|     88|       91|        4.0|       95.0|     14.0|       0.0|\n",
      "|     88|       89|        4.0|       90.0|     24.0|       0.0|\n",
      "|     89|       89|        3.0|       88.0|      9.0|       1.0|\n",
      "|     89|       89|        4.0|       89.0|      0.0|       2.0|\n",
      "|     92|       93|        5.0|       95.0|     14.0|       8.0|\n",
      "|     90|       90|        4.0|       94.0|     12.0|       0.0|\n",
      "|     88|       90|        2.0|       78.0|      9.0|       0.0|\n",
      "|     88|       88|        5.0|       92.0|      4.0|       0.0|\n",
      "|     88|       88|        4.0|       82.0|      7.0|       1.0|\n",
      "|     87|       87|        3.0|       87.0|     13.0|       0.0|\n",
      "+-------+---------+-----------+-----------+---------+----------+\n",
      "only showing top 20 rows\n",
      "\n"
     ]
    }
   ],
   "source": [
    "spark_df = spark_df.drop(\"Position\",\"Body Type\")\n",
    "spark_df.show()"
   ]
  },
  {
   "cell_type": "code",
   "execution_count": 12,
   "id": "a32f7454",
   "metadata": {
    "scrolled": true
   },
   "outputs": [],
   "source": [
    "imputer = Imputer(inputCols=spark_df.columns, outputCols=spark_df.columns)\n",
    "model = imputer.fit(spark_df)\n",
    "\n",
    "spark_df = model.transform(spark_df)"
   ]
  },
  {
   "cell_type": "code",
   "execution_count": 13,
   "id": "5691b0b5",
   "metadata": {
    "scrolled": true
   },
   "outputs": [
    {
     "name": "stdout",
     "output_type": "stream",
     "text": [
      "+-------+---------+-----------+-----------+---------+----------+--------------------+\n",
      "|Overall|Potential|Skill Moves|BallControl|Position1|Body Type1|           _features|\n",
      "+-------+---------+-----------+-----------+---------+----------+--------------------+\n",
      "|     94|       94|        4.0|       96.0|     26.0|       7.0|[94.0,94.0,4.0,96...|\n",
      "|     91|       91|        3.0|       90.0|     19.0|       0.0|[91.0,91.0,3.0,90...|\n",
      "|     91|       91|        4.0|       93.0|     13.0|       1.0|[91.0,91.0,4.0,93...|\n",
      "|     94|       94|        5.0|       94.0|      0.0|       5.0|[94.0,94.0,5.0,94...|\n",
      "|     91|       91|        3.0|       84.0|     10.0|       0.0|[91.0,91.0,3.0,84...|\n",
      "|     90|       90|        3.0|       90.0|     12.0|       0.0|[90.0,90.0,3.0,90...|\n",
      "|     88|       88|        4.0|       85.0|      0.0|       1.0|[88.0,88.0,4.0,85...|\n",
      "|     91|       92|        4.0|       91.0|     13.0|       0.0|[91.0,92.0,4.0,91...|\n",
      "|     91|       91|        4.0|       94.0|     27.0|       0.0|[91.0,91.0,4.0,94...|\n",
      "|     88|       89|        5.0|       92.0|     14.0|       0.0|[88.0,89.0,5.0,92...|\n",
      "|     88|       91|        4.0|       95.0|     14.0|       0.0|[88.0,91.0,4.0,95...|\n",
      "|     88|       89|        4.0|       90.0|     24.0|       0.0|[88.0,89.0,4.0,90...|\n",
      "|     89|       89|        3.0|       88.0|      9.0|       1.0|[89.0,89.0,3.0,88...|\n",
      "|     89|       89|        4.0|       89.0|      0.0|       2.0|[89.0,89.0,4.0,89...|\n",
      "|     92|       93|        5.0|       95.0|     14.0|       8.0|[92.0,93.0,5.0,95...|\n",
      "|     90|       90|        4.0|       94.0|     12.0|       0.0|[90.0,90.0,4.0,94...|\n",
      "|     88|       90|        2.0|       78.0|      9.0|       0.0|[88.0,90.0,2.0,78...|\n",
      "|     88|       88|        5.0|       92.0|      4.0|       0.0|[88.0,88.0,5.0,92...|\n",
      "|     88|       88|        4.0|       82.0|      7.0|       1.0|[88.0,88.0,4.0,82...|\n",
      "|     87|       87|        3.0|       87.0|     13.0|       0.0|[87.0,87.0,3.0,87...|\n",
      "+-------+---------+-----------+-----------+---------+----------+--------------------+\n",
      "only showing top 20 rows\n",
      "\n"
     ]
    }
   ],
   "source": [
    "assemble=VectorAssembler(inputCols=spark_df.columns, outputCol='_features')\n",
    "assembled_data=assemble.transform(spark_df)\n",
    "assembled_data.show()"
   ]
  },
  {
   "cell_type": "code",
   "execution_count": 14,
   "id": "e3acac13",
   "metadata": {},
   "outputs": [],
   "source": [
    "scale=StandardScaler(inputCol='_features',outputCol='features')\n",
    "data_scale=scale.fit(assembled_data)\n",
    "data_scale_output=data_scale.transform(assembled_data)\n"
   ]
  },
  {
   "cell_type": "code",
   "execution_count": 15,
   "id": "7ed0420f",
   "metadata": {},
   "outputs": [
    {
     "name": "stdout",
     "output_type": "stream",
     "text": [
      "K = 2, Silhouette Score : 0.4027167796638398\n",
      "K = 3, Silhouette Score : 0.32667624187198274\n",
      "K = 4, Silhouette Score : 0.354794212207572\n",
      "K = 5, Silhouette Score : 0.3404626025352105\n",
      "K = 6, Silhouette Score : 0.3539988514324568\n",
      "K = 7, Silhouette Score : 0.3461308065220264\n",
      "K = 8, Silhouette Score : 0.32146121612863576\n",
      "K = 9, Silhouette Score : 0.32599883768712473\n",
      "K = 10, Silhouette Score : 0.3408416410211203\n",
      "K = 11, Silhouette Score : 0.3025585274542935\n",
      "K = 12, Silhouette Score : 0.32977083642704474\n",
      "K = 13, Silhouette Score : 0.32200091043976437\n",
      "K = 14, Silhouette Score : 0.32933181600623584\n",
      "K = 15, Silhouette Score : 0.32775204306202216\n",
      "K = 16, Silhouette Score : 0.33692753845226253\n",
      "K = 17, Silhouette Score : 0.34793980913736056\n",
      "K = 18, Silhouette Score : 0.3406183507281656\n",
      "K = 19, Silhouette Score : 0.3499138373810436\n",
      "K = 20, Silhouette Score : 0.352137554695319\n",
      "K = 21, Silhouette Score : 0.34822548313594526\n",
      "K = 22, Silhouette Score : 0.34737653549000913\n",
      "K = 23, Silhouette Score : 0.3365554124405232\n",
      "K = 24, Silhouette Score : 0.3412115030414518\n",
      "K = 25, Silhouette Score : 0.3398443058314785\n",
      "K = 26, Silhouette Score : 0.3434587571692228\n",
      "K = 27, Silhouette Score : 0.3501757459835615\n",
      "K = 28, Silhouette Score : 0.35692086980844057\n",
      "K = 29, Silhouette Score : 0.33787707899088004\n",
      "K = 30, Silhouette Score : 0.3305126835998365\n",
      "K = 31, Silhouette Score : 0.3501226389812479\n",
      "K = 32, Silhouette Score : 0.365800507952962\n",
      "K = 33, Silhouette Score : 0.33863034504688755\n",
      "K = 34, Silhouette Score : 0.35444400839874535\n",
      "K = 35, Silhouette Score : 0.3544520258459281\n",
      "K = 36, Silhouette Score : 0.3452447193198309\n",
      "K = 37, Silhouette Score : 0.3433718189569892\n",
      "K = 38, Silhouette Score : 0.3408979893095733\n",
      "K = 39, Silhouette Score : 0.3530430548962124\n",
      "K = 40, Silhouette Score : 0.3458347070794776\n",
      "K = 41, Silhouette Score : 0.34050455987198713\n",
      "K = 42, Silhouette Score : 0.34272218528670984\n",
      "K = 43, Silhouette Score : 0.33907249032338443\n",
      "K = 44, Silhouette Score : 0.3420224963099298\n",
      "K = 45, Silhouette Score : 0.35990837731327885\n",
      "K = 46, Silhouette Score : 0.35694425100575067\n",
      "K = 47, Silhouette Score : 0.34412151243586236\n",
      "K = 48, Silhouette Score : 0.36632280644273457\n",
      "K = 49, Silhouette Score : 0.34245451556853473\n"
     ]
    }
   ],
   "source": [
    "silhouette_score=[]\n",
    "evaluator = ClusteringEvaluator(predictionCol='prediction', featuresCol='features', \\\n",
    "                                metricName='silhouette', distanceMeasure='squaredEuclidean')\n",
    "\n",
    "for i in range(2,50):\n",
    "    KMeans_algo=KMeans(featuresCol='features', k=i)\n",
    "    \n",
    "    KMeans_fit=KMeans_algo.fit(data_scale_output)\n",
    "    \n",
    "    output=KMeans_fit.transform(data_scale_output)\n",
    "    \n",
    "    \n",
    "    \n",
    "    score=evaluator.evaluate(output)\n",
    "    \n",
    "    silhouette_score.append(score)\n",
    "    \n",
    "    print(f\"K = {i}, Silhouette Score :\",score)\n"
   ]
  },
  {
   "cell_type": "code",
   "execution_count": 16,
   "id": "d6d678c3",
   "metadata": {},
   "outputs": [
    {
     "name": "stdout",
     "output_type": "stream",
     "text": [
      "+-------+---------+-----------+-----------+---------+----------+--------------------+\n",
      "|Overall|Potential|Skill Moves|BallControl|Position1|Body Type1|            features|\n",
      "+-------+---------+-----------+-----------+---------+----------+--------------------+\n",
      "|     94|       94|        4.0|       96.0|     26.0|       7.0|[13.6055807890016...|\n",
      "|     91|       91|        3.0|       90.0|     19.0|       0.0|[13.1713601255229...|\n",
      "|     91|       91|        4.0|       93.0|     13.0|       1.0|[13.1713601255229...|\n",
      "|     94|       94|        5.0|       94.0|      0.0|       5.0|[13.6055807890016...|\n",
      "|     91|       91|        3.0|       84.0|     10.0|       0.0|[13.1713601255229...|\n",
      "|     90|       90|        3.0|       90.0|     12.0|       0.0|[13.0266199043633...|\n",
      "|     88|       88|        4.0|       85.0|      0.0|       1.0|[12.7371394620441...|\n",
      "|     91|       92|        4.0|       91.0|     13.0|       0.0|[13.1713601255229...|\n",
      "|     91|       91|        4.0|       94.0|     27.0|       0.0|[13.1713601255229...|\n",
      "|     88|       89|        5.0|       92.0|     14.0|       0.0|[12.7371394620441...|\n",
      "+-------+---------+-----------+-----------+---------+----------+--------------------+\n",
      "\n"
     ]
    }
   ],
   "source": [
    "kmeans = KMeans().setK(2)\n",
    "model = kmeans.fit(data_scale_output)\n",
    "top_10_df = spark.createDataFrame(data_scale_output.take(10)).drop('_features')\n",
    "top_10_df.show()"
   ]
  },
  {
   "cell_type": "code",
   "execution_count": 17,
   "id": "695aa203",
   "metadata": {},
   "outputs": [],
   "source": [
    "predictions = model.transform(top_10_df)\n"
   ]
  },
  {
   "cell_type": "code",
   "execution_count": 18,
   "id": "0b4d866a",
   "metadata": {},
   "outputs": [
    {
     "name": "stdout",
     "output_type": "stream",
     "text": [
      "+----------+-----+\n",
      "|prediction|count|\n",
      "+----------+-----+\n",
      "|         0|   10|\n",
      "+----------+-----+\n",
      "\n"
     ]
    }
   ],
   "source": [
    "predictions.groupBy('prediction').count().show()\n"
   ]
  },
  {
   "cell_type": "markdown",
   "id": "f22fbabc",
   "metadata": {},
   "source": [
    "# PCA"
   ]
  },
  {
   "cell_type": "code",
   "execution_count": 19,
   "id": "55c54c98",
   "metadata": {},
   "outputs": [],
   "source": [
    "def reduceByPCA(k,inputCol,outputCol,df):\n",
    "    pca = PCA(k=k, inputCol=inputCol, outputCol=outputCol)\n",
    "    model = pca.fit(df)\n",
    "    transformed = model.transform(df)\n",
    "    return transformed\n",
    "\n",
    "def findBestCluster_BySilhoutte(transformed,predictionCol = 'prediction',featuresCol = 'pca_features'):\n",
    "    max_silhouette,max_silhouette_index = -1,-1\n",
    "    evaluator = ClusteringEvaluator(predictionCol=predictionCol, featuresCol=featuresCol, \\\n",
    "                                    metricName='silhouette', distanceMeasure='squaredEuclidean')\n",
    "\n",
    "    for i in range(2,50):\n",
    "        KMeans_algo=KMeans(featuresCol='features', k=i)\n",
    "\n",
    "        KMeans_fit=KMeans_algo.fit(transformed)\n",
    "\n",
    "        output=KMeans_fit.transform(transformed)\n",
    "\n",
    "\n",
    "\n",
    "        score=evaluator.evaluate(output)\n",
    "\n",
    "        if max_silhouette < score:\n",
    "            max_silhouette = score\n",
    "            max_silhouette_index = i\n",
    "\n",
    "    print(f\"Best Cluster : K = {max_silhouette_index}, Silhouette Score :\",max_silhouette)\n",
    "    return max_silhouette_index"
   ]
  },
  {
   "cell_type": "markdown",
   "id": "a004a07e",
   "metadata": {},
   "source": [
    "# PCA K = 5"
   ]
  },
  {
   "cell_type": "code",
   "execution_count": 20,
   "id": "60f2a8d1",
   "metadata": {},
   "outputs": [],
   "source": [
    "transformed_df = reduceByPCA(k=5,inputCol=\"features\", outputCol=\"pca_features\",df=data_scale_output)\n",
    "top_10_df = spark.createDataFrame(transformed_df.take(10)).drop('_features','features')"
   ]
  },
  {
   "cell_type": "code",
   "execution_count": 21,
   "id": "2e7f94ef",
   "metadata": {},
   "outputs": [
    {
     "name": "stdout",
     "output_type": "stream",
     "text": [
      "Best Cluster : K = 2, Silhouette Score : 0.41102935426075193\n"
     ]
    }
   ],
   "source": [
    "max_silhouette_index = findBestCluster_BySilhoutte(transformed_df)"
   ]
  },
  {
   "cell_type": "code",
   "execution_count": 22,
   "id": "d1be998f",
   "metadata": {},
   "outputs": [
    {
     "name": "stdout",
     "output_type": "stream",
     "text": [
      "+----------+-----+\n",
      "|prediction|count|\n",
      "+----------+-----+\n",
      "|         1|   10|\n",
      "+----------+-----+\n",
      "\n"
     ]
    }
   ],
   "source": [
    "kmeans = KMeans(featuresCol='pca_features', k=max_silhouette_index)\n",
    "model = kmeans.fit(transformed_df)\n",
    "predictions = model.transform(top_10_df)\n",
    "predictions.groupBy('prediction').count().show()"
   ]
  },
  {
   "cell_type": "markdown",
   "id": "d5afed18",
   "metadata": {},
   "source": [
    "## PCA K = 4"
   ]
  },
  {
   "cell_type": "code",
   "execution_count": 23,
   "id": "ced3ba9e",
   "metadata": {},
   "outputs": [],
   "source": [
    "transformed_df = reduceByPCA(k=4,inputCol=\"features\", outputCol=\"pca_features\",df=data_scale_output)"
   ]
  },
  {
   "cell_type": "code",
   "execution_count": 24,
   "id": "e2406ac2",
   "metadata": {},
   "outputs": [],
   "source": [
    "top_10_df = spark.createDataFrame(transformed_df.take(10)).drop('_features','features')"
   ]
  },
  {
   "cell_type": "code",
   "execution_count": 25,
   "id": "6a39fd65",
   "metadata": {},
   "outputs": [
    {
     "name": "stdout",
     "output_type": "stream",
     "text": [
      "Best Cluster : K = 2, Silhouette Score : 0.43067962835878176\n"
     ]
    }
   ],
   "source": [
    "max_silhouette_index = findBestCluster_BySilhoutte(transformed_df)"
   ]
  },
  {
   "cell_type": "code",
   "execution_count": 26,
   "id": "f09abbee",
   "metadata": {},
   "outputs": [
    {
     "name": "stdout",
     "output_type": "stream",
     "text": [
      "+----------+-----+\n",
      "|prediction|count|\n",
      "+----------+-----+\n",
      "|         1|   10|\n",
      "+----------+-----+\n",
      "\n"
     ]
    }
   ],
   "source": [
    "kmeans = KMeans(featuresCol='pca_features', k=max_silhouette_index)\n",
    "\n",
    "model = kmeans.fit(transformed_df)\n",
    "predictions = model.transform(top_10_df)\n",
    "predictions.groupBy('prediction').count().show()"
   ]
  },
  {
   "cell_type": "markdown",
   "id": "87916f03",
   "metadata": {},
   "source": [
    "## PCA K = 3"
   ]
  },
  {
   "cell_type": "code",
   "execution_count": 27,
   "id": "8c5d8cf9",
   "metadata": {},
   "outputs": [],
   "source": [
    "transformed_df = reduceByPCA(k=3,inputCol=\"features\", outputCol=\"pca_features\",df=data_scale_output)"
   ]
  },
  {
   "cell_type": "code",
   "execution_count": 28,
   "id": "8c417108",
   "metadata": {},
   "outputs": [
    {
     "name": "stdout",
     "output_type": "stream",
     "text": [
      "+-------+---------+-----------+-----------+---------+----------+--------------------+\n",
      "|Overall|Potential|Skill Moves|BallControl|Position1|Body Type1|        pca_features|\n",
      "+-------+---------+-----------+-----------+---------+----------+--------------------+\n",
      "|     94|       94|        4.0|       96.0|     26.0|       7.0|[-20.367483956140...|\n",
      "|     91|       91|        3.0|       90.0|     19.0|       0.0|[-17.997595777194...|\n",
      "|     91|       91|        4.0|       93.0|     13.0|       1.0|[-18.537677992799...|\n",
      "|     94|       94|        5.0|       94.0|      0.0|       5.0|[-19.338387598358...|\n",
      "|     91|       91|        3.0|       84.0|     10.0|       0.0|[-17.313379914960...|\n",
      "|     90|       90|        3.0|       90.0|     12.0|       0.0|[-17.478707408504...|\n",
      "|     88|       88|        4.0|       85.0|      0.0|       1.0|[-17.171106110541...|\n",
      "|     91|       92|        4.0|       91.0|     13.0|       0.0|[-18.438737833222...|\n",
      "|     91|       91|        4.0|       94.0|     27.0|       0.0|[-19.237365273877...|\n",
      "|     88|       89|        5.0|       92.0|     14.0|       0.0|[-18.799436754833...|\n",
      "+-------+---------+-----------+-----------+---------+----------+--------------------+\n",
      "\n"
     ]
    }
   ],
   "source": [
    "top_10_df = spark.createDataFrame(transformed_df.take(10)).drop('_features','features')\n",
    "top_10_df.show()"
   ]
  },
  {
   "cell_type": "code",
   "execution_count": 29,
   "id": "18cb5eab",
   "metadata": {},
   "outputs": [
    {
     "name": "stdout",
     "output_type": "stream",
     "text": [
      "Best Cluster : K = 2, Silhouette Score : 0.4768092515264009\n"
     ]
    }
   ],
   "source": [
    "max_silhouette_index = findBestCluster_BySilhoutte(transformed_df)"
   ]
  },
  {
   "cell_type": "code",
   "execution_count": 30,
   "id": "262ac9d7",
   "metadata": {},
   "outputs": [
    {
     "name": "stdout",
     "output_type": "stream",
     "text": [
      "+----------+-----+\n",
      "|prediction|count|\n",
      "+----------+-----+\n",
      "|         1|   10|\n",
      "+----------+-----+\n",
      "\n"
     ]
    }
   ],
   "source": [
    "kmeans = KMeans(featuresCol='pca_features', k=max_silhouette_index)\n",
    "model = kmeans.fit(transformed_df)\n",
    "predictions = model.transform(top_10_df)\n",
    "predictions.groupBy('prediction').count().show()"
   ]
  },
  {
   "cell_type": "markdown",
   "id": "4358f5ad",
   "metadata": {},
   "source": [
    "# PCA K = 2"
   ]
  },
  {
   "cell_type": "code",
   "execution_count": 31,
   "id": "a5280d73",
   "metadata": {
    "scrolled": true
   },
   "outputs": [],
   "source": [
    "transformed_df = reduceByPCA(k=2,inputCol=\"features\", outputCol=\"pca_features\",df=data_scale_output)\n",
    "top_10_df = spark.createDataFrame(transformed_df.take(10)).drop('_features','features')"
   ]
  },
  {
   "cell_type": "code",
   "execution_count": 32,
   "id": "342d9291",
   "metadata": {},
   "outputs": [
    {
     "name": "stdout",
     "output_type": "stream",
     "text": [
      "Best Cluster : K = 2, Silhouette Score : 0.5635439616608435\n"
     ]
    }
   ],
   "source": [
    "max_silhouette_index = findBestCluster_BySilhoutte(transformed_df)"
   ]
  },
  {
   "cell_type": "code",
   "execution_count": 33,
   "id": "7ece0ed5",
   "metadata": {},
   "outputs": [],
   "source": [
    "kmeans = KMeans(featuresCol='pca_features', k=max_silhouette_index)\n",
    "model = kmeans.fit(transformed_df)\n",
    "all_data_predictions = model.transform(transformed_df)\n",
    "top10_predictions = model.transform(top_10_df)\n"
   ]
  },
  {
   "cell_type": "code",
   "execution_count": 34,
   "id": "64c33aa7",
   "metadata": {},
   "outputs": [],
   "source": [
    "all_data_predictions= all_data_predictions.withColumn(\"x\", vector_to_array(\"pca_features\")[0]).withColumn(\"y\", vector_to_array(\"pca_features\")[1])\n",
    "top10_predictions= top10_predictions.withColumn(\"x\", vector_to_array(\"pca_features\")[0]).withColumn(\"y\", vector_to_array(\"pca_features\")[1])\n",
    "\n",
    "alldata_plot_df = all_data_predictions.select('x','y','prediction')\n",
    "top10_plot_df = top10_predictions.select('x','y','prediction')\n"
   ]
  },
  {
   "cell_type": "code",
   "execution_count": 35,
   "id": "ed53e06c",
   "metadata": {},
   "outputs": [],
   "source": [
    "d = {}\n",
    "for i in range(max_silhouette_index):\n",
    "    d['x'+str(i)] = alldata_plot_df.select('x').where(f'prediction == {i}').collect()\n",
    "    d['y'+str(i)] = alldata_plot_df.select('y').where(f'prediction == {i}').collect()\n",
    "    d['x_top10_'+str(i)] = top10_plot_df.select('x').where(f'prediction == {i}').collect()\n",
    "    d['y_top10_'+str(i)] = top10_plot_df.select('y').where(f'prediction == {i}').collect()"
   ]
  },
  {
   "cell_type": "code",
   "execution_count": 36,
   "id": "e1ac7f60",
   "metadata": {},
   "outputs": [
    {
     "data": {
      "text/plain": [
       "<matplotlib.legend.Legend at 0x7ff7e3ac21f0>"
      ]
     },
     "execution_count": 36,
     "metadata": {},
     "output_type": "execute_result"
    },
    {
     "data": {
      "image/png": "[encoded data removed]",
      "text/plain": [
       "<Figure size 432x288 with 1 Axes>"
      ]
     },
     "metadata": {
      "needs_background": "light"
     },
     "output_type": "display_data"
    }
   ],
   "source": [
    "for i in range(max_silhouette_index):\n",
    "    plt.scatter(d['x'+str(i)],d['y'+str(i)],label = f'Cluster {str(i)}')    \n",
    "    plt.scatter(d['x_top10_'+str(i)],d['y_top10_'+str(i)],label = f'Top10 Cluster {str(i)}')    \n",
    "\n",
    "plt.legend()"
   ]
  },
  {
   "cell_type": "code",
   "execution_count": null,
   "id": "05bd71a4",
   "metadata": {},
   "outputs": [],
   "source": []
  }
 ],
 "metadata": {
  "kernelspec": {
   "display_name": "Python 3",
   "language": "python",
   "name": "python3"
  },
  "language_info": {
   "codemirror_mode": {
    "name": "ipython",
    "version": 3
   },
   "file_extension": ".py",
   "mimetype": "text/x-python",
   "name": "python",
   "nbconvert_exporter": "python",
   "pygments_lexer": "ipython3",
   "version": "3.8.8"
  }
 },
 "nbformat": 4,
 "nbformat_minor": 5
}
