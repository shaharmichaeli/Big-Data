{
 "cells": [
  {
   "cell_type": "markdown",
   "id": "35dc1b23",
   "metadata": {},
   "source": [
    "Please open terminal and run this commands to run ZooKeeper, Kafka server and topic which is named RomeoAndJuliet."
   ]
  },
  {
   "cell_type": "code",
   "execution_count": 1,
   "id": "a8d20923",
   "metadata": {},
   "outputs": [],
   "source": [
    "# alias cdk='cd /usr/local/kafka/kafka'\n",
    "# bin/zookeeper-server-start.sh    config/zookeeper.properties &\n",
    "# bin/kafka-server-start.sh        config/server.properties &\n",
    "# bin/kafka-topics.sh --create --bootstrap-server localhost:9092 --replication-factor 1 --partitions 1 --topic RomeoAndJuliet\n",
    "# bin/kafka-topics.sh --list --bootstrap-server localhost:9092\n"
   ]
  },
  {
   "cell_type": "code",
   "execution_count": 1,
   "id": "91e0e5ca",
   "metadata": {},
   "outputs": [
    {
     "name": "stdout",
     "output_type": "stream",
     "text": [
      "Collecting confluent-kafka\n",
      "  Downloading confluent_kafka-1.7.0-cp38-cp38-manylinux2010_x86_64.whl (2.7 MB)\n",
      "\u001b[K     |████████████████████████████████| 2.7 MB 942 kB/s eta 0:00:01\n",
      "\u001b[?25hInstalling collected packages: confluent-kafka\n",
      "Successfully installed confluent-kafka-1.7.0\n",
      "Note: you may need to restart the kernel to use updated packages.\n"
     ]
    }
   ],
   "source": [
    "pip install confluent-kafka"
   ]
  },
  {
   "cell_type": "code",
   "execution_count": 2,
   "id": "4cff34d9",
   "metadata": {},
   "outputs": [],
   "source": [
    "import pandas as pd\n",
    "from confluent_kafka import Producer\n",
    "from confluent_kafka import Consumer\n",
    "from time import sleep\n",
    "\n",
    "ROMEO_AND_JULIET_TOPC = 'RomeoAndJuliet'"
   ]
  },
  {
   "cell_type": "code",
   "execution_count": 3,
   "id": "01a1ee1a",
   "metadata": {},
   "outputs": [],
   "source": [
    "with open(\"Romeo and Juliet.txt\", 'r') as infile:\n",
    "    lines = [line for line in infile]"
   ]
  },
  {
   "cell_type": "code",
   "execution_count": 4,
   "id": "897b4a19",
   "metadata": {},
   "outputs": [],
   "source": [
    "p = Producer({'bootstrap.servers': 'localhost:9092'})"
   ]
  },
  {
   "cell_type": "code",
   "execution_count": 8,
   "id": "b08a47ca",
   "metadata": {},
   "outputs": [],
   "source": [
    "for i in range(0,len(lines),100):\n",
    "    p.produce(ROMEO_AND_JULIET_TOPC, key=str(i) +  ':' + str(i+100), value=''.join(lines[i:i+100]))\n",
    "    sleep(2)"
   ]
  },
  {
   "cell_type": "code",
   "execution_count": null,
   "id": "58f9a47b",
   "metadata": {},
   "outputs": [],
   "source": []
  }
 ],
 "metadata": {
  "kernelspec": {
   "display_name": "Python 3",
   "language": "python",
   "name": "python3"
  },
  "language_info": {
   "codemirror_mode": {
    "name": "ipython",
    "version": 3
   },
   "file_extension": ".py",
   "mimetype": "text/x-python",
   "name": "python",
   "nbconvert_exporter": "python",
   "pygments_lexer": "ipython3",
   "version": "3.8.8"
  }
 },
 "nbformat": 4,
 "nbformat_minor": 5
}
